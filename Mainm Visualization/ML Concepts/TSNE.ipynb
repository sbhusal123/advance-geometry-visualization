{
 "cells": [
  {
   "cell_type": "code",
   "execution_count": null,
   "id": "6d3a47b6",
   "metadata": {},
   "outputs": [
    {
     "data": {
      "text/html": [
       "<pre style=\"white-space:pre;overflow-x:auto;line-height:normal;font-family:Menlo,'DejaVu Sans Mono',consolas,'Courier New',monospace\">Manim Community <span style=\"color: #008000; text-decoration-color: #008000\">v0.19.0</span>\n",
       "\n",
       "</pre>\n"
      ],
      "text/plain": [
       "Manim Community \u001b[32mv0.\u001b[0m\u001b[32m19.0\u001b[0m\n",
       "\n"
      ]
     },
     "metadata": {},
     "output_type": "display_data"
    }
   ],
   "source": [
    "from manim import *\n",
    "import numpy as np\n",
    "\n",
    "class TSNEConcept(Scene):\n",
    "    def construct(self):\n",
    "        # 1️⃣ Generate synthetic high-dimensional points (3D for visualization)\n",
    "        np.random.seed(1)\n",
    "        cluster1 = np.random.randn(20,3) + np.array([5,5,5])\n",
    "        cluster2 = np.random.randn(20,3) + np.array([-5,-5,5])\n",
    "        cluster3 = np.random.randn(20,3) + np.array([0,0,-5])\n",
    "        points = np.vstack([cluster1, cluster2, cluster3])\n",
    "\n",
    "        dots = VGroup(*[Dot3D(point=point, radius=0.15, color=BLUE) for point in points])\n",
    "        self.play(FadeIn(dots))\n",
    "        self.wait(1)\n",
    "\n",
    "        # 2️⃣ Show pairwise similarities (example: draw a few arrows for nearest neighbors)\n",
    "        arrows = VGroup()\n",
    "        for i, dot in enumerate(dots[:5]):  # just show for 5 points\n",
    "            for j in range(i+1, i+4):\n",
    "                if j < len(dots):\n",
    "                    arrow = Arrow3D(start=dot.get_center(), end=dots[j].get_center(), color=YELLOW, stroke_width=2)\n",
    "                    arrows.add(arrow)\n",
    "        self.play(LaggedStartMap(FadeIn, arrows, lag_ratio=0.2))\n",
    "        self.wait(1)\n",
    "\n",
    "        # 3️⃣ Project points to 2D plane (simulate t-SNE projection)\n",
    "        projected_points = points[:, :2] + np.random.randn(*points[:, :2].shape) * 0.5\n",
    "        dots_2d = VGroup(*[Dot(point=pt*0.5, radius=0.15, color=BLUE) for pt in projected_points])\n",
    "\n",
    "        # Animate transition from 3D to 2D\n",
    "        animations = [dot.animate.move_to(dots_2d[i].get_center()) for i, dot in enumerate(dots)]\n",
    "        self.play(*animations, run_time=3)\n",
    "        self.wait(1)\n",
    "\n",
    "        # 4️⃣ Show clusters forming clearly\n",
    "        for i, color in zip([0,20,40], [RED, GREEN, BLUE]):\n",
    "            self.play(dots[i:i+20].animate.set_color(color), run_time=1)\n",
    "        self.wait(2)\n",
    "\n",
    "%manim -pql TSNEConcept"
   ]
  }
 ],
 "metadata": {
  "kernelspec": {
   "display_name": "tensor-geometry",
   "language": "python",
   "name": "python3"
  },
  "language_info": {
   "codemirror_mode": {
    "name": "ipython",
    "version": 3
   },
   "file_extension": ".py",
   "mimetype": "text/x-python",
   "name": "python",
   "nbconvert_exporter": "python",
   "pygments_lexer": "ipython3",
   "version": "3.11.13"
  }
 },
 "nbformat": 4,
 "nbformat_minor": 5
}
