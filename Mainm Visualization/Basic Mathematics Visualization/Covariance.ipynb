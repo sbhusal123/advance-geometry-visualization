{
 "cells": [
  {
   "cell_type": "code",
   "execution_count": 20,
   "id": "5dc373fa",
   "metadata": {},
   "outputs": [
    {
     "data": {
      "text/html": [
       "<pre style=\"white-space:pre;overflow-x:auto;line-height:normal;font-family:Menlo,'DejaVu Sans Mono',consolas,'Courier New',monospace\">Manim Community <span style=\"color: #008000; text-decoration-color: #008000\">v0.19.0</span>\n",
       "\n",
       "</pre>\n"
      ],
      "text/plain": [
       "Manim Community \u001b[32mv0.\u001b[0m\u001b[32m19.0\u001b[0m\n",
       "\n"
      ]
     },
     "metadata": {},
     "output_type": "display_data"
    },
    {
     "name": "stderr",
     "output_type": "stream",
     "text": [
      "                                                                                                            \r"
     ]
    },
    {
     "data": {
      "text/html": [
       "<video src=\"media/jupyter/CovariancePlaneProjection2D3D@2025-09-03@20-41-33.mp4\" controls autoplay loop style=\"max-width: 60%;\"  >\n",
       "      Your browser does not support the <code>video</code> element.\n",
       "    </video>"
      ],
      "text/plain": [
       "<IPython.core.display.Video object>"
      ]
     },
     "metadata": {},
     "output_type": "display_data"
    }
   ],
   "source": [
    "from manim import *\n",
    "import numpy as np\n",
    "\n",
    "class CovariancePlaneProjection2D3D(ThreeDScene):\n",
    "    def construct(self):\n",
    "        # ---------------- 1️⃣ 3D Camera Setup ----------------\n",
    "        self.set_camera_orientation(phi=75*DEGREES, theta=-60*DEGREES, distance=12)\n",
    "\n",
    "        # ---------------- 2️⃣ Axes ----------------\n",
    "        axes = ThreeDAxes(\n",
    "            x_range=[-5,5,1],\n",
    "            y_range=[-5,5,1],\n",
    "            z_range=[-5,5,1],\n",
    "            x_length=8, y_length=8, z_length=6\n",
    "        )\n",
    "        self.add(axes)\n",
    "\n",
    "        # ---------------- 3️⃣ Curve and Points ----------------\n",
    "        def curve_func(t):\n",
    "            return np.array([np.cos(t)*2, np.sin(t)*2, np.sin(2*t)])\n",
    "\n",
    "        t_vals = np.linspace(0, 2*np.pi, 12)\n",
    "        points = np.array([curve_func(t) for t in t_vals])\n",
    "        dots = VGroup(*[Dot3D(point=pt, color=BLUE, radius=0.12) for pt in points])\n",
    "        self.play(FadeIn(dots))\n",
    "\n",
    "        # ---------------- 4️⃣ Mean and HUD ----------------\n",
    "        mean = np.mean(points, axis=0)\n",
    "        mean_dot = Dot3D(point=mean, color=RED, radius=0.15)\n",
    "        self.play(FadeIn(mean_dot))\n",
    "\n",
    "        mean_label = MathTex(f\"\\\\bar{{x}}=({mean[0]:.2f},{mean[1]:.2f},{mean[2]:.2f})\").scale(0.6).to_corner(UL)\n",
    "        cov_formula = MathTex(r\"\\Sigma = \\frac{1}{N}\\sum_i (x_i-\\bar{x})(x_i-\\bar{x})^T\").scale(0.6).next_to(mean_label, DOWN, aligned_edge=LEFT)\n",
    "        self.add_fixed_in_frame_mobjects(mean_label, cov_formula)\n",
    "\n",
    "        # ---------------- 5️⃣ Covariance and Eigenvectors ----------------\n",
    "        centered_points = points - mean\n",
    "        cov = np.cov(centered_points.T)\n",
    "        eigvals, eigvecs = np.linalg.eigh(cov)\n",
    "        idx = np.argsort(eigvals)[::-1]\n",
    "        eigvals = eigvals[idx]\n",
    "        eigvecs = eigvecs[:, idx]\n",
    "\n",
    "        # ---------------- 6️⃣ Planes, Variance, Projection, 2D View ----------------\n",
    "        plane_size = 3\n",
    "        colors = [YELLOW, GREEN]\n",
    "        labels = [\"High variance plane\", \"Low variance plane\"]\n",
    "\n",
    "        for i in range(2):\n",
    "            # Choose eigenvectors for plane\n",
    "            if i == 0:\n",
    "                v1, v2 = eigvecs[:,0], eigvecs[:,1]  # high variance\n",
    "            else:\n",
    "                v1, v2 = eigvecs[:,1], eigvecs[:,2]  # low variance\n",
    "\n",
    "            # Plane corners\n",
    "            corners = [\n",
    "                mean +  v1*plane_size +  v2*plane_size,\n",
    "                mean +  v1*plane_size + -v2*plane_size,\n",
    "                mean + -v1*plane_size + -v2*plane_size,\n",
    "                mean + -v1*plane_size +  v2*plane_size,\n",
    "            ]\n",
    "            plane = Polygon(*corners, color=colors[i], fill_opacity=0.3)\n",
    "            plane_label = MathTex(labels[i]).scale(0.6).to_corner(UR)\n",
    "            self.add_fixed_in_frame_mobjects(plane_label)\n",
    "\n",
    "            self.play(FadeIn(plane))\n",
    "            self.wait(0.5)\n",
    "\n",
    "            # Compute projected points\n",
    "            projected_points = []\n",
    "            proj_dots = VGroup()\n",
    "            for pt in points:\n",
    "                vec = pt - mean\n",
    "                proj_vec = np.dot(vec, v1)*v1 + np.dot(vec, v2)*v2\n",
    "                proj_pt = mean + proj_vec\n",
    "                projected_points.append(proj_pt)\n",
    "                proj_dots.add(Dot3D(point=proj_pt, color=ORANGE, radius=0.12))\n",
    "\n",
    "            # Animate projection in 3D\n",
    "            animations = [dots[j].animate.move_to(proj_dots[j].get_center()) for j in range(len(dots))]\n",
    "            self.play(*animations, run_time=2)\n",
    "            self.wait(0.5)\n",
    "\n",
    "            # Compute variance for plane\n",
    "            var_proj = np.sum([np.linalg.norm(pt - (mean + np.dot(pt-mean,v1)*v1 + np.dot(pt-mean,v2)*v2))**2 for pt in points])/len(points)\n",
    "            var_text = MathTex(f\"Variance = {var_proj:.2f}\").scale(0.6).next_to(plane_label, DOWN, aligned_edge=RIGHT)\n",
    "            self.add_fixed_in_frame_mobjects(var_text)\n",
    "            self.wait(1)\n",
    "\n",
    "            # ---------------- Switch to top-down 2D view ----------------\n",
    "            self.move_camera(phi=0*DEGREES, theta=-90*DEGREES, distance=10)\n",
    "            self.wait(1.5)\n",
    "\n",
    "            # Show points clearly in 2D projection\n",
    "            proj_2d_dots = VGroup(*[Dot3D(point=pt, color=ORANGE, radius=0.12) for pt in projected_points])\n",
    "            self.play(FadeIn(proj_2d_dots))\n",
    "            self.wait(1.5)\n",
    "            self.play(FadeOut(proj_2d_dots))\n",
    "\n",
    "            # ---------------- Back to 3D for next plane ----------------\n",
    "            self.set_camera_orientation(phi=75*DEGREES, theta=-60*DEGREES, distance=12)\n",
    "            self.play(FadeOut(plane), FadeOut(var_text), FadeOut(plane_label))\n",
    "            self.wait(0.5)\n",
    "\n",
    "        # ---------------- 7️⃣ Optional: Ambient 3D rotation ----------------\n",
    "        self.begin_ambient_camera_rotation(rate=0.02)\n",
    "        self.wait(5)\n",
    "        self.stop_ambient_camera_rotation()\n",
    "\n",
    "\n",
    "%manim -ql -v ERROR CovariancePlaneProjection2D3D\n"
   ]
  }
 ],
 "metadata": {
  "kernelspec": {
   "display_name": "tensor-geometry",
   "language": "python",
   "name": "python3"
  },
  "language_info": {
   "codemirror_mode": {
    "name": "ipython",
    "version": 3
   },
   "file_extension": ".py",
   "mimetype": "text/x-python",
   "name": "python",
   "nbconvert_exporter": "python",
   "pygments_lexer": "ipython3",
   "version": "3.11.13"
  }
 },
 "nbformat": 4,
 "nbformat_minor": 5
}
