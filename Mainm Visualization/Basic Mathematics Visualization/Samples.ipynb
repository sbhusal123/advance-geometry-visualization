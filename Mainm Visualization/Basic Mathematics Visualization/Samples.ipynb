{
 "cells": [
  {
   "cell_type": "code",
   "execution_count": 1,
   "id": "19fb9edc",
   "metadata": {},
   "outputs": [
    {
     "data": {
      "text/html": [
       "<pre style=\"white-space:pre;overflow-x:auto;line-height:normal;font-family:Menlo,'DejaVu Sans Mono',consolas,'Courier New',monospace\">Manim Community <span style=\"color: #008000; text-decoration-color: #008000\">v0.19.0</span>\n",
       "\n",
       "</pre>\n"
      ],
      "text/plain": [
       "Manim Community \u001b[32mv0.\u001b[0m\u001b[32m19.0\u001b[0m\n",
       "\n"
      ]
     },
     "metadata": {},
     "output_type": "display_data"
    },
    {
     "name": "stderr",
     "output_type": "stream",
     "text": [
      "                                                            \r"
     ]
    },
    {
     "data": {
      "text/html": [
       "<video src=\"media/jupyter/ThreeDSurfacePlot@2025-08-27@21-40-36.mp4\" controls autoplay loop style=\"max-width: 60%;\"  >\n",
       "      Your browser does not support the <code>video</code> element.\n",
       "    </video>"
      ],
      "text/plain": [
       "<IPython.core.display.Video object>"
      ]
     },
     "metadata": {},
     "output_type": "display_data"
    }
   ],
   "source": [
    "from manim import *\n",
    "\n",
    "class ThreeDSurfacePlot(ThreeDScene):\n",
    "    def construct(self):\n",
    "        # 3D axes\n",
    "        axes = ThreeDAxes(\n",
    "            x_range=[-3, 3, 1],\n",
    "            y_range=[-3, 3, 1],\n",
    "            z_range=[-3, 3, 1],\n",
    "        )\n",
    "\n",
    "        # Define surface: z = sin(x) * cos(y)\n",
    "        surface = Surface(\n",
    "            lambda u, v: axes.c2p(u, v, np.sin(u) * np.cos(v)),\n",
    "            u_range=[-3, 3],\n",
    "            v_range=[-3, 3],\n",
    "            resolution=(32, 32),\n",
    "            fill_opacity=0.7,\n",
    "            checkerboard_colors=[BLUE_D, BLUE_E]\n",
    "        )\n",
    "\n",
    "        # Add axes + surface\n",
    "        self.add(axes, surface)\n",
    "\n",
    "        # Camera angle\n",
    "        self.set_camera_orientation(phi=70 * DEGREES, theta=45 * DEGREES)\n",
    "\n",
    "        # Rotate camera slowly\n",
    "        self.begin_ambient_camera_rotation(rate=0.2)\n",
    "        self.wait(8)\n",
    "\n",
    "%manim -qm -v WARNING ThreeDSurfacePlot"
   ]
  }
 ],
 "metadata": {
  "kernelspec": {
   "display_name": "tensor-geometry",
   "language": "python",
   "name": "python3"
  },
  "language_info": {
   "codemirror_mode": {
    "name": "ipython",
    "version": 3
   },
   "file_extension": ".py",
   "mimetype": "text/x-python",
   "name": "python",
   "nbconvert_exporter": "python",
   "pygments_lexer": "ipython3",
   "version": "3.11.13"
  }
 },
 "nbformat": 4,
 "nbformat_minor": 5
}
