{
 "cells": [
  {
   "cell_type": "code",
   "execution_count": null,
   "id": "b4772df9",
   "metadata": {},
   "outputs": [],
   "source": [
    "from manim import *\n",
    "from manim_ml.neural_network import Convolutional2DLayer, FeedForwardLayer, NeuralNetwork\n",
    "\n",
    "config.pixel_height = 700\n",
    "config.pixel_width = 1900\n",
    "config.frame_height = 7.0\n",
    "config.frame_width = 7.0\n",
    "\n",
    "class BasicScene(ThreeDScene):\n",
    "    def construct(self):\n",
    "        nn = NeuralNetwork([\n",
    "            Convolutional2DLayer(1, 7, 3, 3),\n",
    "            FeedForwardLayer(5),\n",
    "            FeedForwardLayer(3),\n",
    "        ], layer_spacing=0.25)\n",
    "\n",
    "        self.add(nn)\n",
    "\n",
    "        forward_pass = nn.make_forward_pass_animation()\n",
    "        self.play(forward_pass)\n",
    "        self.wait()\n",
    "\n",
    "%manim -ql -v error BasicScene"
   ]
  }
 ],
 "metadata": {
  "kernelspec": {
   "display_name": "tensor-geometry",
   "language": "python",
   "name": "python3"
  },
  "language_info": {
   "codemirror_mode": {
    "name": "ipython",
    "version": 3
   },
   "file_extension": ".py",
   "mimetype": "text/x-python",
   "name": "python",
   "nbconvert_exporter": "python",
   "pygments_lexer": "ipython3",
   "version": "3.11.13"
  }
 },
 "nbformat": 4,
 "nbformat_minor": 5
}
