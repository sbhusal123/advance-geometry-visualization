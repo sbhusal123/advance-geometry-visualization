{
 "cells": [
  {
   "cell_type": "code",
   "execution_count": 1,
   "id": "f3e591bb",
   "metadata": {},
   "outputs": [
    {
     "data": {
      "text/html": [
       "<pre style=\"white-space:pre;overflow-x:auto;line-height:normal;font-family:Menlo,'DejaVu Sans Mono',consolas,'Courier New',monospace\">Manim Community <span style=\"color: #008000; text-decoration-color: #008000\">v0.19.0</span>\n",
       "\n",
       "</pre>\n"
      ],
      "text/plain": [
       "Manim Community \u001b[32mv0.\u001b[0m\u001b[32m19.0\u001b[0m\n",
       "\n"
      ]
     },
     "metadata": {},
     "output_type": "display_data"
    },
    {
     "name": "stderr",
     "output_type": "stream",
     "text": [
      "                                                                                                 \r"
     ]
    },
    {
     "data": {
      "text/html": [
       "<video src=\"media/jupyter/TrigOverview@2025-09-06@01-26-11.mp4\" controls autoplay loop style=\"max-width: 60%;\"  >\n",
       "      Your browser does not support the <code>video</code> element.\n",
       "    </video>"
      ],
      "text/plain": [
       "<IPython.core.display.Video object>"
      ]
     },
     "metadata": {},
     "output_type": "display_data"
    }
   ],
   "source": [
    "from manim import *\n",
    "import numpy as np\n",
    "\n",
    "class TrigOverview(Scene):\n",
    "    def construct(self):\n",
    "        # --- Circle (top-left) ---\n",
    "        circle = Circle(radius=1.5, color=WHITE).to_edge(UL)\n",
    "        center = circle.get_center()\n",
    "\n",
    "        dot = Dot(color=YELLOW).move_to(circle.point_at_angle(0))\n",
    "        radius_line = always_redraw(lambda: Line(center, dot.get_center(), color=YELLOW))\n",
    "\n",
    "        # Projections\n",
    "        proj_x = always_redraw(lambda: Line(dot.get_center(), [dot.get_x(), center[1], 0], color=GREEN))\n",
    "        proj_y = always_redraw(lambda: Line(dot.get_center(), [center[0], dot.get_y(), 0], color=BLUE))\n",
    "\n",
    "        # --- Sin(x) graph (left-middle) ---\n",
    "        sin_axes = Axes(\n",
    "            x_range=[-PI, PI, PI/2],\n",
    "            y_range=[-1.5, 1.5, 1],\n",
    "            tips=False,\n",
    "            axis_config={\"include_numbers\": True, \"font_size\": 24},\n",
    "            x_length=4, y_length=2\n",
    "        ).next_to(circle, DOWN, buff=1.2, aligned_edge=LEFT)\n",
    "\n",
    "        sin_graph = sin_axes.plot(lambda x: np.sin(x), color=BLUE)\n",
    "        sin_label = sin_axes.get_graph_label(sin_graph, label=\"\\\\sin(x)\")\n",
    "\n",
    "        # --- Cos(x) graph (bottom) ---\n",
    "        cos_axes = Axes(\n",
    "            x_range=[-PI, PI, PI/2],\n",
    "            y_range=[-1.5, 1.5, 1],\n",
    "            tips=False,\n",
    "            axis_config={\"include_numbers\": True, \"font_size\": 24},\n",
    "            x_length=6, y_length=2\n",
    "        ).to_edge(DOWN)\n",
    "\n",
    "        cos_graph = cos_axes.plot(lambda x: np.cos(x), color=GREEN)\n",
    "        cos_label = cos_axes.get_graph_label(cos_graph, label=\"\\\\cos(x)\")\n",
    "\n",
    "        # --- Tan(x) graph (right) ---\n",
    "        tan_axes = Axes(\n",
    "            x_range=[-PI/2, PI/2, PI/4],\n",
    "            y_range=[-3, 3, 1],\n",
    "            tips=False,\n",
    "            axis_config={\"include_numbers\": True, \"font_size\": 24},\n",
    "            x_length=4, y_length=3\n",
    "        ).to_edge(RIGHT)\n",
    "\n",
    "        tan_graph = tan_axes.plot(lambda x: np.tan(x), color=RED)\n",
    "        tan_label = tan_axes.get_graph_label(tan_graph, label=\"\\\\tan(x)\", x_val=0.7)\n",
    "\n",
    "        # --- Animations ---\n",
    "        self.play(Create(circle), FadeIn(dot))\n",
    "        self.play(Create(radius_line), Create(proj_x), Create(proj_y))\n",
    "        self.play(Create(sin_axes), Create(sin_graph), FadeIn(sin_label))\n",
    "        self.play(Create(cos_axes), Create(cos_graph), FadeIn(cos_label))\n",
    "        self.play(Create(tan_axes), Create(tan_graph), FadeIn(tan_label))\n",
    "\n",
    "        # Animate the dot around the circle\n",
    "        self.play(Rotate(dot, angle=2*PI, about_point=center, run_time=6, rate_func=linear))\n",
    "\n",
    "        self.wait(2)\n",
    "\n",
    "\n",
    "%manim -qk -v WARNING TrigOverview"
   ]
  }
 ],
 "metadata": {
  "kernelspec": {
   "display_name": "tensor-geometry",
   "language": "python",
   "name": "python3"
  },
  "language_info": {
   "codemirror_mode": {
    "name": "ipython",
    "version": 3
   },
   "file_extension": ".py",
   "mimetype": "text/x-python",
   "name": "python",
   "nbconvert_exporter": "python",
   "pygments_lexer": "ipython3",
   "version": "3.11.13"
  }
 },
 "nbformat": 4,
 "nbformat_minor": 5
}
