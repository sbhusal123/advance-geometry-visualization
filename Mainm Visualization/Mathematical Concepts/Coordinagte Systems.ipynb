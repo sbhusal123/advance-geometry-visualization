{
 "cells": [
  {
   "cell_type": "markdown",
   "id": "5ccb5ad1",
   "metadata": {},
   "source": [
    "## Rectangular Coordinate System Vs Spherical Coordinates System\n",
    "\n",
    "![](./images/rect_to_spherical.webp)"
   ]
  },
  {
   "cell_type": "code",
   "execution_count": 6,
   "id": "7e56bc6f",
   "metadata": {},
   "outputs": [
    {
     "data": {
      "text/html": [
       "<pre style=\"white-space:pre;overflow-x:auto;line-height:normal;font-family:Menlo,'DejaVu Sans Mono',consolas,'Courier New',monospace\">Manim Community <span style=\"color: #008000; text-decoration-color: #008000\">v0.19.0</span>\n",
       "\n",
       "</pre>\n"
      ],
      "text/plain": [
       "Manim Community \u001b[32mv0.\u001b[0m\u001b[32m19.0\u001b[0m\n",
       "\n"
      ]
     },
     "metadata": {},
     "output_type": "display_data"
    },
    {
     "name": "stderr",
     "output_type": "stream",
     "text": [
      "                                                        \r"
     ]
    },
    {
     "data": {
      "text/html": [
       "<video src=\"media/jupyter/SphereIn3D@2025-08-27@21-38-00.mp4\" controls autoplay loop style=\"max-width: 60%;\"  >\n",
       "      Your browser does not support the <code>video</code> element.\n",
       "    </video>"
      ],
      "text/plain": [
       "<IPython.core.display.Video object>"
      ]
     },
     "metadata": {},
     "output_type": "display_data"
    }
   ],
   "source": [
    "from manim import *\n",
    "\n",
    "class SphereIn3D(ThreeDScene):\n",
    "    def construct(self):\n",
    "        # Set up 3D axes\n",
    "        axes = ThreeDAxes(x_range=[-3, 3], y_range=[-3, 3], z_range=[-3, 3])\n",
    "        \n",
    "        # Create a sphere of radius 2\n",
    "        sphere = Sphere(radius=2, resolution=(32, 32), fill_opacity=0.4, color=BLUE)\n",
    "\n",
    "        # Add everything\n",
    "        self.add(axes, sphere)\n",
    "\n",
    "        # Set the camera orientation\n",
    "        self.set_camera_orientation(phi=75 * DEGREES, theta=30 * DEGREES)\n",
    "\n",
    "        # Animate camera rotation around the sphere\n",
    "        self.begin_ambient_camera_rotation(rate=0.2)\n",
    "        self.wait(8)\n",
    "\n",
    "%manim -qm -v WARNING SphereIn3D"
   ]
  }
 ],
 "metadata": {
  "kernelspec": {
   "display_name": "tensor-geometry",
   "language": "python",
   "name": "python3"
  },
  "language_info": {
   "codemirror_mode": {
    "name": "ipython",
    "version": 3
   },
   "file_extension": ".py",
   "mimetype": "text/x-python",
   "name": "python",
   "nbconvert_exporter": "python",
   "pygments_lexer": "ipython3",
   "version": "3.11.13"
  }
 },
 "nbformat": 4,
 "nbformat_minor": 5
}
