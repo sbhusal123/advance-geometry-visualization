{
 "cells": [
  {
   "cell_type": "markdown",
   "id": "dd6ec874",
   "metadata": {},
   "source": [
    "## PlaneCurveSmoo: 3D Curve on a Plane with Rotation:\n",
    "\n",
    "$$\n",
    "\\text{Parametric Equation of the 3D Curve:}\n",
    "\n",
    "\\begin{cases}\n",
    "x(t) = \\sin(2t), \\\\\n",
    "y(t) = \\sin(3t), \\\\\n",
    "z(t) = \\frac{1}{2} \\sin(3t),\n",
    "\\end{cases} \n",
    "\\quad t \\in [0, 2\\pi]\n",
    "$$"
   ]
  },
  {
   "cell_type": "markdown",
   "id": "20c98d91",
   "metadata": {},
   "source": [
    "## 1. Define the 3D Scene\n",
    "\n",
    "---\n",
    "\n",
    "```python\n",
    "class PlaneCurveSmoothRotationV19(ThreeDScene):\n",
    "    def construct(self):\n",
    "        ...\n",
    "```\n",
    "\n",
    "\n",
    "\n",
    "- ``ThreeDScene`` is a specialized Manim scene class for 3D animations.\n",
    "\n",
    "- ``construct()`` is the main function where all objects and animations are defined.\n",
    "\n",
    "---"
   ]
  },
  {
   "cell_type": "markdown",
   "id": "fe658f2a",
   "metadata": {},
   "source": [
    "## 2. Create 3D Axes\n",
    "\n",
    "```python\n",
    "axes = ThreeDAxes(\n",
    "    x_range=[-3, 3, 1], # [start, end, n_points]\n",
    "    y_range=[-3, 3, 1], # [start, end, n_points]\n",
    "    z_range=[-1, 3, 1], # [start, end, n_points]\n",
    "    x_length=6,\n",
    "    y_length=6,\n",
    "    z_length=4,\n",
    ")\n",
    "self.add(axes)\n",
    "\n",
    "```\n",
    "\n",
    "\n",
    "- ``ThreeDAxes`` creates 3D axes for reference.\n",
    "\n",
    "- ``x_range, y_range, z_range`` define the visible limits and tick intervals.\n",
    "\n",
    "- ``x_length, y_length, z_length`` control the visual size of the axes."
   ]
  },
  {
   "cell_type": "markdown",
   "id": "46141815",
   "metadata": {},
   "source": [
    "## 3. Create a 3D Plane\n",
    "\n",
    "```python\n",
    "plane_surface = Surface(\n",
    "    lambda u, v: np.array([u, v, 0.5*v]), # surface / plane => [x, y, z/2]\n",
    "    u_range=[-2, 2], # [-2, 2]\n",
    "    v_range=[-2, 2],\n",
    "    resolution=(30, 30),\n",
    "    checkerboard_colors=[BLUE_D, BLUE_E],\n",
    "    fill_opacity=0.3,\n",
    "    stroke_opacity=0.2,\n",
    ")\n",
    "self.add(plane_surface)\n",
    "```\n",
    "\n",
    "\n",
    "- ``Surface`` creates a 3D plane defined by a parametric ``function of (u, v)``.\n",
    "\n",
    "- ``checkerboard_colors`` adds a visual pattern to help perceive depth.\n",
    "\n",
    "- ``fill_opacity`` and ``stroke_opacity`` control transparency and line visibility."
   ]
  },
  {
   "cell_type": "markdown",
   "id": "f9d4000a",
   "metadata": {},
   "source": [
    "## 4. Draw a Curve on the Plane\n",
    "\n",
    "```python\n",
    "\n",
    "t_vals = np.linspace(0, TAU, 200) # points accross the curve\n",
    "\n",
    "curve_points = [np.array([np.sin(2*t), np.sin(3*t), 0.5*np.sin(3*t)]) for t in t_vals] # curve points\n",
    "\n",
    "\n",
    "curve = VMobject(color=GREEN)\n",
    "curve.set_points_as_corners(curve_points)\n",
    "self.play(Create(curve), run_time=2)\n",
    "```\n",
    "\n",
    "- Generates 200 points along a parametric curve.\n",
    "\n",
    "- VMobject is used to represent the curve.\n",
    "\n",
    "- Create(curve) animates the curve drawing over 2 seconds."
   ]
  },
  {
   "cell_type": "markdown",
   "id": "83ec857e",
   "metadata": {},
   "source": [
    "## 5. Add a Moving Dot Along the Curve\n",
    "\n",
    "```python\n",
    "t_tracker = ValueTracker(0)\n",
    "dot = Dot3D(color=YELLOW)\n",
    "dot.add_updater(lambda d: d.move_to(\n",
    "    np.array([np.sin(2*t_tracker.get_value()),\n",
    "              np.sin(3*t_tracker.get_value()),\n",
    "              0.5*np.sin(3*t_tracker.get_value())])\n",
    "))\n",
    "self.add(dot)\n",
    "```\n",
    "\n",
    "\n",
    "- ``ValueTracker`` allows animating a value over time.\n",
    "\n",
    "- ``Dot3D`` represents a moving point on the curve.\n",
    "\n",
    "- ``add_updater`` moves the dot along the curve dynamically as t_tracker changes.\n",
    "\n"
   ]
  },
  {
   "cell_type": "markdown",
   "id": "1354993b",
   "metadata": {},
   "source": [
    "## 6. Camera Orientation and Rotation\n",
    "\n",
    "```python\n",
    "self.set_camera_orientation(phi=70*DEGREES, theta=-45*DEGREES)\n",
    "self.begin_ambient_camera_rotation(rate=0.2)\n",
    "self.play(\n",
    "    t_tracker.animate.set_value(TAU),\n",
    "    run_time=6,\n",
    "    rate_func=linear\n",
    ")\n",
    "self.stop_ambient_camera_rotation()\n",
    "```\n",
    "\n",
    "- ``set_camera_orientation`` sets the initial 3D view.\n",
    "\n",
    "-  ``begin_ambient_camera_rotation`` slowly rotates the camera around the Z-axis.\n",
    "\n",
    "- ``t_tracker.animate.set_value(TAU)`` moves the dot along the curve while the camera rotates.\n",
    "\n"
   ]
  },
  {
   "cell_type": "markdown",
   "id": "c3bb7423",
   "metadata": {},
   "source": [
    "## 7. Add Tangent Vectors Along the Curve\n",
    "\n",
    "```python\n",
    "t_sample = [0, PI/4, PI/2, 3*PI/4]\n",
    "for t in t_sample:\n",
    "    x = np.sin(2*t)\n",
    "    y = np.sin(3*t)\n",
    "    z = 0.5*y\n",
    "    dx = 2*np.cos(2*t)\n",
    "    dy = 3*np.cos(3*t)\n",
    "    dz = 0.5*dy\n",
    "    arrow = Arrow3D(\n",
    "        start=np.array([x, y, z]),\n",
    "        end=np.array([x + 0.4*dx, y + 0.4*dy, z + 0.4*dz]),\n",
    "        color=RED,\n",
    "        stroke_width=3\n",
    "    )\n",
    "    self.add(arrow)\n",
    "```\n",
    "\n",
    "- Computes the tangent vector at selected points along the curve.\n",
    "\n",
    "- ``Arrow3D`` visualizes these tangent vectors in 3D space.\n",
    "\n",
    "- ``dx, dy, dz`` are derivatives of the curve to define direction."
   ]
  },
  {
   "cell_type": "code",
   "execution_count": 1,
   "id": "d3995709",
   "metadata": {},
   "outputs": [
    {
     "data": {
      "text/html": [
       "<pre style=\"white-space:pre;overflow-x:auto;line-height:normal;font-family:Menlo,'DejaVu Sans Mono',consolas,'Courier New',monospace\">Manim Community <span style=\"color: #008000; text-decoration-color: #008000\">v0.19.0</span>\n",
       "\n",
       "</pre>\n"
      ],
      "text/plain": [
       "Manim Community \u001b[32mv0.\u001b[0m\u001b[32m19.0\u001b[0m\n",
       "\n"
      ]
     },
     "metadata": {},
     "output_type": "display_data"
    },
    {
     "name": "stderr",
     "output_type": "stream",
     "text": [
      "                                                                                              \r"
     ]
    },
    {
     "data": {
      "text/html": [
       "<video src=\"media/jupyter/PlaneCurveRotation3D@2025-08-28@04-35-42.mp4\" controls autoplay loop style=\"max-width: 60%;\"  >\n",
       "      Your browser does not support the <code>video</code> element.\n",
       "    </video>"
      ],
      "text/plain": [
       "<IPython.core.display.Video object>"
      ]
     },
     "metadata": {},
     "output_type": "display_data"
    }
   ],
   "source": [
    "from manim import *\n",
    "import numpy as np\n",
    "\n",
    "class PlaneCurveRotation3D(ThreeDScene):\n",
    "    def construct(self):\n",
    "        # ---------------- 3D Axes ----------------\n",
    "        axes = ThreeDAxes(\n",
    "            x_range=[-3, 3, 1],\n",
    "            y_range=[-3, 3, 1],\n",
    "            z_range=[-1, 3, 1],\n",
    "            x_length=6,\n",
    "            y_length=6,\n",
    "            z_length=4,\n",
    "        )\n",
    "        self.add(axes)\n",
    "\n",
    "        # ---------------- 3D Plane ----------------\n",
    "        plane_surface = Surface(\n",
    "            lambda u, v: np.array([u, v, 0.5*v]),\n",
    "            u_range=[-2, 2],\n",
    "            v_range=[-2, 2],\n",
    "            resolution=(30, 30),\n",
    "            checkerboard_colors=[BLUE_D, BLUE_E],\n",
    "            fill_opacity=0.3,\n",
    "            stroke_opacity=0.2,\n",
    "        )\n",
    "        self.add(plane_surface)\n",
    "\n",
    "        # ---------------- Curve on plane ----------------\n",
    "        t_vals = np.linspace(0, TAU, 200)\n",
    "        curve_points = [np.array([np.sin(2*t), np.sin(3*t), 0.5*np.sin(3*t)]) for t in t_vals]\n",
    "        curve = VMobject(color=GREEN)\n",
    "        curve.set_points_as_corners(curve_points)\n",
    "        self.play(Create(curve), run_time=2)\n",
    "\n",
    "        # ---------------- Moving dot ----------------\n",
    "        t_tracker = ValueTracker(0)\n",
    "        dot = Dot3D(color=YELLOW)\n",
    "        dot.add_updater(lambda d: d.move_to(\n",
    "            np.array([np.sin(2*t_tracker.get_value()),\n",
    "                      np.sin(3*t_tracker.get_value()),\n",
    "                      0.5*np.sin(3*t_tracker.get_value())])\n",
    "        ))\n",
    "        self.add(dot)\n",
    "\n",
    "        # ---------------- Camera rotation ----------------\n",
    "        self.set_camera_orientation(phi=70*DEGREES, theta=-45*DEGREES)\n",
    "        self.begin_ambient_camera_rotation(rate=0.2)\n",
    "\n",
    "        self.play(\n",
    "            t_tracker.animate.set_value(TAU),\n",
    "            run_time=6,\n",
    "            rate_func=linear\n",
    "        )\n",
    "        self.stop_ambient_camera_rotation()\n",
    "\n",
    "        # ---------------- Tangent vectors ----------------\n",
    "        t_sample = [0, PI/4, PI/2, 3*PI/4]\n",
    "        for t in t_sample:\n",
    "            x = np.sin(2*t)\n",
    "            y = np.sin(3*t)\n",
    "            z = 0.5*y\n",
    "            dx = 2*np.cos(2*t)\n",
    "            dy = 3*np.cos(3*t)\n",
    "            dz = 0.5*dy\n",
    "            arrow = Arrow3D(\n",
    "                start=np.array([x, y, z]),\n",
    "                end=np.array([x + 0.4*dx, y + 0.4*dy, z + 0.4*dz]),\n",
    "                color=RED,\n",
    "                stroke_width=3\n",
    "            )\n",
    "            self.add(arrow)\n",
    "\n",
    "        self.wait(2)\n",
    "\n",
    "%manim -qm -v WARNING PlaneCurveRotation3D"
   ]
  }
 ],
 "metadata": {
  "kernelspec": {
   "display_name": "tensor-geometry",
   "language": "python",
   "name": "python3"
  },
  "language_info": {
   "codemirror_mode": {
    "name": "ipython",
    "version": 3
   },
   "file_extension": ".py",
   "mimetype": "text/x-python",
   "name": "python",
   "nbconvert_exporter": "python",
   "pygments_lexer": "ipython3",
   "version": "3.11.13"
  }
 },
 "nbformat": 4,
 "nbformat_minor": 5
}
