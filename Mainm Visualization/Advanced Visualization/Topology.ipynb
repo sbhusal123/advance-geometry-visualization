{
 "cells": [
  {
   "cell_type": "code",
   "execution_count": 29,
   "id": "ded47d02",
   "metadata": {},
   "outputs": [
    {
     "data": {
      "text/html": [
       "<pre style=\"white-space:pre;overflow-x:auto;line-height:normal;font-family:Menlo,'DejaVu Sans Mono',consolas,'Courier New',monospace\">Manim Community <span style=\"color: #008000; text-decoration-color: #008000\">v0.19.0</span>\n",
       "\n",
       "</pre>\n"
      ],
      "text/plain": [
       "Manim Community \u001b[32mv0.\u001b[0m\u001b[32m19.0\u001b[0m\n",
       "\n"
      ]
     },
     "metadata": {},
     "output_type": "display_data"
    },
    {
     "name": "stderr",
     "output_type": "stream",
     "text": [
      "                                                                                                          \r"
     ]
    },
    {
     "data": {
      "text/html": [
       "<pre style=\"white-space:pre;overflow-x:auto;line-height:normal;font-family:Menlo,'DejaVu Sans Mono',consolas,'Courier New',monospace\"><span style=\"color: #7fbfbf; text-decoration-color: #7fbfbf\">[08/27/25 22:05:13] </span><span style=\"color: #800000; text-decoration-color: #800000; font-weight: bold\">ERROR   </span> LaTeX compilation error: Missing $ inserted.                   <a href=\"file:///home/surya/Desktop/tensor-geometry/.venv/lib/python3.11/site-packages/manim/utils/tex_file_writing.py\" target=\"_blank\"><span style=\"color: #7f7f7f; text-decoration-color: #7f7f7f\">tex_file_writing.py</span></a><span style=\"color: #7f7f7f; text-decoration-color: #7f7f7f\">:</span><a href=\"file:///home/surya/Desktop/tensor-geometry/.venv/lib/python3.11/site-packages/manim/utils/tex_file_writing.py#314\" target=\"_blank\"><span style=\"color: #7f7f7f; text-decoration-color: #7f7f7f\">314</span></a>\n",
       "<span style=\"color: #7fbfbf; text-decoration-color: #7fbfbf\">                    </span>                                                                        <span style=\"color: #7f7f7f; text-decoration-color: #7f7f7f\">                       </span>\n",
       "</pre>\n"
      ],
      "text/plain": [
       "\u001b[2;36m[08/27/25 22:05:13]\u001b[0m\u001b[2;36m \u001b[0m\u001b[1;31mERROR   \u001b[0m LaTeX compilation error: Missing $ inserted.                   \u001b]8;id=58678;file:///home/surya/Desktop/tensor-geometry/.venv/lib/python3.11/site-packages/manim/utils/tex_file_writing.py\u001b\\\u001b[2mtex_file_writing.py\u001b[0m\u001b]8;;\u001b\\\u001b[2m:\u001b[0m\u001b]8;id=706262;file:///home/surya/Desktop/tensor-geometry/.venv/lib/python3.11/site-packages/manim/utils/tex_file_writing.py#314\u001b\\\u001b[2m314\u001b[0m\u001b]8;;\u001b\\\n",
       "\u001b[2;36m                    \u001b[0m                                                                        \u001b[2m                       \u001b[0m\n"
      ]
     },
     "metadata": {},
     "output_type": "display_data"
    },
    {
     "data": {
      "text/html": [
       "<pre style=\"white-space:pre;overflow-x:auto;line-height:normal;font-family:Menlo,'DejaVu Sans Mono',consolas,'Courier New',monospace\"><span style=\"color: #7fbfbf; text-decoration-color: #7fbfbf\">                    </span><span style=\"color: #800000; text-decoration-color: #800000; font-weight: bold\">ERROR   </span> Context of error:                                              <a href=\"file:///home/surya/Desktop/tensor-geometry/.venv/lib/python3.11/site-packages/manim/utils/tex_file_writing.py\" target=\"_blank\"><span style=\"color: #7f7f7f; text-decoration-color: #7f7f7f\">tex_file_writing.py</span></a><span style=\"color: #7f7f7f; text-decoration-color: #7f7f7f\">:</span><a href=\"file:///home/surya/Desktop/tensor-geometry/.venv/lib/python3.11/site-packages/manim/utils/tex_file_writing.py#348\" target=\"_blank\"><span style=\"color: #7f7f7f; text-decoration-color: #7f7f7f\">348</span></a>\n",
       "<span style=\"color: #7fbfbf; text-decoration-color: #7fbfbf\">                    </span>         \\usepackage<span style=\"font-weight: bold\">{</span>amssymb<span style=\"font-weight: bold\">}</span>                                           <span style=\"color: #7f7f7f; text-decoration-color: #7f7f7f\">                       </span>\n",
       "<span style=\"color: #7fbfbf; text-decoration-color: #7fbfbf\">                    </span>         \\begin<span style=\"font-weight: bold\">{</span>document<span style=\"font-weight: bold\">}</span>                                               <span style=\"color: #7f7f7f; text-decoration-color: #7f7f7f\">                       </span>\n",
       "<span style=\"color: #7fbfbf; text-decoration-color: #7fbfbf\">                    </span>         -&gt; \\begin<span style=\"font-weight: bold\">{</span>center<span style=\"font-weight: bold\">}</span>                                              <span style=\"color: #7f7f7f; text-decoration-color: #7f7f7f\">                       </span>\n",
       "<span style=\"color: #7fbfbf; text-decoration-color: #7fbfbf\">                    </span>         U = A \\cap B                                                   <span style=\"color: #7f7f7f; text-decoration-color: #7f7f7f\">                       </span>\n",
       "<span style=\"color: #7fbfbf; text-decoration-color: #7fbfbf\">                    </span>         \\end<span style=\"font-weight: bold\">{</span>center<span style=\"font-weight: bold\">}</span>                                                   <span style=\"color: #7f7f7f; text-decoration-color: #7f7f7f\">                       </span>\n",
       "<span style=\"color: #7fbfbf; text-decoration-color: #7fbfbf\">                    </span>         \\end<span style=\"font-weight: bold\">{</span>document<span style=\"font-weight: bold\">}</span>                                                 <span style=\"color: #7f7f7f; text-decoration-color: #7f7f7f\">                       </span>\n",
       "</pre>\n"
      ],
      "text/plain": [
       "\u001b[2;36m                   \u001b[0m\u001b[2;36m \u001b[0m\u001b[1;31mERROR   \u001b[0m Context of error:                                              \u001b]8;id=208059;file:///home/surya/Desktop/tensor-geometry/.venv/lib/python3.11/site-packages/manim/utils/tex_file_writing.py\u001b\\\u001b[2mtex_file_writing.py\u001b[0m\u001b]8;;\u001b\\\u001b[2m:\u001b[0m\u001b]8;id=407937;file:///home/surya/Desktop/tensor-geometry/.venv/lib/python3.11/site-packages/manim/utils/tex_file_writing.py#348\u001b\\\u001b[2m348\u001b[0m\u001b]8;;\u001b\\\n",
       "\u001b[2;36m                    \u001b[0m         \\usepackage\u001b[1m{\u001b[0mamssymb\u001b[1m}\u001b[0m                                           \u001b[2m                       \u001b[0m\n",
       "\u001b[2;36m                    \u001b[0m         \\begin\u001b[1m{\u001b[0mdocument\u001b[1m}\u001b[0m                                               \u001b[2m                       \u001b[0m\n",
       "\u001b[2;36m                    \u001b[0m         -> \\begin\u001b[1m{\u001b[0mcenter\u001b[1m}\u001b[0m                                              \u001b[2m                       \u001b[0m\n",
       "\u001b[2;36m                    \u001b[0m         U = A \\cap B                                                   \u001b[2m                       \u001b[0m\n",
       "\u001b[2;36m                    \u001b[0m         \\end\u001b[1m{\u001b[0mcenter\u001b[1m}\u001b[0m                                                   \u001b[2m                       \u001b[0m\n",
       "\u001b[2;36m                    \u001b[0m         \\end\u001b[1m{\u001b[0mdocument\u001b[1m}\u001b[0m                                                 \u001b[2m                       \u001b[0m\n"
      ]
     },
     "metadata": {},
     "output_type": "display_data"
    },
    {
     "ename": "ValueError",
     "evalue": "latex error converting to dvi. See log output above or the log file: media/Tex/969213dcd27e202a.log",
     "output_type": "error",
     "traceback": [
      "\u001b[31m---------------------------------------------------------------------------\u001b[39m",
      "\u001b[31mValueError\u001b[39m                                Traceback (most recent call last)",
      "\u001b[36mCell\u001b[39m\u001b[36m \u001b[39m\u001b[32mIn[29]\u001b[39m\u001b[32m, line 64\u001b[39m\n\u001b[32m     61\u001b[39m         \u001b[38;5;28mself\u001b[39m.play(Write(summary), run_time=\u001b[32m3\u001b[39m)\n\u001b[32m     62\u001b[39m         \u001b[38;5;28mself\u001b[39m.wait(\u001b[32m3\u001b[39m)\n\u001b[32m---> \u001b[39m\u001b[32m64\u001b[39m \u001b[43mget_ipython\u001b[49m\u001b[43m(\u001b[49m\u001b[43m)\u001b[49m\u001b[43m.\u001b[49m\u001b[43mrun_line_magic\u001b[49m\u001b[43m(\u001b[49m\u001b[33;43m'\u001b[39;49m\u001b[33;43mmanim\u001b[39;49m\u001b[33;43m'\u001b[39;49m\u001b[43m,\u001b[49m\u001b[43m \u001b[49m\u001b[33;43m'\u001b[39;49m\u001b[33;43m-qm -v WARNING TopologyIntro\u001b[39;49m\u001b[33;43m'\u001b[39;49m\u001b[43m)\u001b[49m\n",
      "\u001b[36mFile \u001b[39m\u001b[32m~/Desktop/tensor-geometry/.venv/lib/python3.11/site-packages/IPython/core/interactiveshell.py:2504\u001b[39m, in \u001b[36mInteractiveShell.run_line_magic\u001b[39m\u001b[34m(self, magic_name, line, _stack_depth)\u001b[39m\n\u001b[32m   2502\u001b[39m     kwargs[\u001b[33m'\u001b[39m\u001b[33mlocal_ns\u001b[39m\u001b[33m'\u001b[39m] = \u001b[38;5;28mself\u001b[39m.get_local_scope(stack_depth)\n\u001b[32m   2503\u001b[39m \u001b[38;5;28;01mwith\u001b[39;00m \u001b[38;5;28mself\u001b[39m.builtin_trap:\n\u001b[32m-> \u001b[39m\u001b[32m2504\u001b[39m     result = \u001b[43mfn\u001b[49m\u001b[43m(\u001b[49m\u001b[43m*\u001b[49m\u001b[43margs\u001b[49m\u001b[43m,\u001b[49m\u001b[43m \u001b[49m\u001b[43m*\u001b[49m\u001b[43m*\u001b[49m\u001b[43mkwargs\u001b[49m\u001b[43m)\u001b[49m\n\u001b[32m   2506\u001b[39m \u001b[38;5;66;03m# The code below prevents the output from being displayed\u001b[39;00m\n\u001b[32m   2507\u001b[39m \u001b[38;5;66;03m# when using magics with decorator @output_can_be_silenced\u001b[39;00m\n\u001b[32m   2508\u001b[39m \u001b[38;5;66;03m# when the last Python token in the expression is a ';'.\u001b[39;00m\n\u001b[32m   2509\u001b[39m \u001b[38;5;28;01mif\u001b[39;00m \u001b[38;5;28mgetattr\u001b[39m(fn, magic.MAGIC_OUTPUT_CAN_BE_SILENCED, \u001b[38;5;28;01mFalse\u001b[39;00m):\n",
      "\u001b[36mFile \u001b[39m\u001b[32m~/Desktop/tensor-geometry/.venv/lib/python3.11/site-packages/manim/utils/ipython_magic.py:143\u001b[39m, in \u001b[36mManimMagic.manim\u001b[39m\u001b[34m(self, line, cell, local_ns)\u001b[39m\n\u001b[32m    141\u001b[39m     SceneClass = local_ns[config[\u001b[33m\"\u001b[39m\u001b[33mscene_names\u001b[39m\u001b[33m\"\u001b[39m][\u001b[32m0\u001b[39m]]\n\u001b[32m    142\u001b[39m     scene = SceneClass(renderer=renderer)\n\u001b[32m--> \u001b[39m\u001b[32m143\u001b[39m     \u001b[43mscene\u001b[49m\u001b[43m.\u001b[49m\u001b[43mrender\u001b[49m\u001b[43m(\u001b[49m\u001b[43m)\u001b[49m\n\u001b[32m    144\u001b[39m \u001b[38;5;28;01mfinally\u001b[39;00m:\n\u001b[32m    145\u001b[39m     \u001b[38;5;66;03m# Shader cache becomes invalid as the context is destroyed\u001b[39;00m\n\u001b[32m    146\u001b[39m     shader_program_cache.clear()\n",
      "\u001b[36mFile \u001b[39m\u001b[32m~/Desktop/tensor-geometry/.venv/lib/python3.11/site-packages/manim/scene/scene.py:237\u001b[39m, in \u001b[36mScene.render\u001b[39m\u001b[34m(self, preview)\u001b[39m\n\u001b[32m    235\u001b[39m \u001b[38;5;28mself\u001b[39m.setup()\n\u001b[32m    236\u001b[39m \u001b[38;5;28;01mtry\u001b[39;00m:\n\u001b[32m--> \u001b[39m\u001b[32m237\u001b[39m     \u001b[38;5;28;43mself\u001b[39;49m\u001b[43m.\u001b[49m\u001b[43mconstruct\u001b[49m\u001b[43m(\u001b[49m\u001b[43m)\u001b[49m\n\u001b[32m    238\u001b[39m \u001b[38;5;28;01mexcept\u001b[39;00m EndSceneEarlyException:\n\u001b[32m    239\u001b[39m     \u001b[38;5;28;01mpass\u001b[39;00m\n",
      "\u001b[36mCell\u001b[39m\u001b[36m \u001b[39m\u001b[32mIn[29]\u001b[39m\u001b[32m, line 46\u001b[39m, in \u001b[36mTopologyIntro.construct\u001b[39m\u001b[34m(self)\u001b[39m\n\u001b[32m     44\u001b[39m \u001b[38;5;66;03m# Animate the union explicitly using geometric area\u001b[39;00m\n\u001b[32m     45\u001b[39m union_area = Polygon(subset1.get_top(), subset1.get_right(), subset2.get_right(), subset2.get_bottom(), subset1.get_left(), color=ORANGE, fill_opacity=\u001b[32m0.5\u001b[39m)\n\u001b[32m---> \u001b[39m\u001b[32m46\u001b[39m union_eq = \u001b[43mTex\u001b[49m\u001b[43m(\u001b[49m\u001b[33;43mr\u001b[39;49m\u001b[33;43m\"\u001b[39;49m\u001b[33;43mU = A \u001b[39;49m\u001b[33;43m\\\u001b[39;49m\u001b[33;43mcap B\u001b[39;49m\u001b[33;43m\"\u001b[39;49m\u001b[43m,\u001b[49m\u001b[43m \u001b[49m\u001b[43mfont_size\u001b[49m\u001b[43m=\u001b[49m\u001b[32;43m28\u001b[39;49m\u001b[43m)\u001b[49m.next_to(union_area, UP)\n\u001b[32m     47\u001b[39m \u001b[38;5;28mself\u001b[39m.play(FadeIn(union_area), Write(union_eq), run_time=\u001b[32m2\u001b[39m)\n\u001b[32m     48\u001b[39m \u001b[38;5;28mself\u001b[39m.wait(\u001b[32m2\u001b[39m)\n",
      "\u001b[36mFile \u001b[39m\u001b[32m~/Desktop/tensor-geometry/.venv/lib/python3.11/site-packages/manim/mobject/text/tex_mobject.py:452\u001b[39m, in \u001b[36mTex.__init__\u001b[39m\u001b[34m(self, arg_separator, tex_environment, *tex_strings, **kwargs)\u001b[39m\n\u001b[32m    449\u001b[39m \u001b[38;5;28;01mdef\u001b[39;00m\u001b[38;5;250m \u001b[39m\u001b[34m__init__\u001b[39m(\n\u001b[32m    450\u001b[39m     \u001b[38;5;28mself\u001b[39m, *tex_strings, arg_separator=\u001b[33m\"\u001b[39m\u001b[33m\"\u001b[39m, tex_environment=\u001b[33m\"\u001b[39m\u001b[33mcenter\u001b[39m\u001b[33m\"\u001b[39m, **kwargs\n\u001b[32m    451\u001b[39m ):\n\u001b[32m--> \u001b[39m\u001b[32m452\u001b[39m     \u001b[38;5;28;43msuper\u001b[39;49m\u001b[43m(\u001b[49m\u001b[43m)\u001b[49m\u001b[43m.\u001b[49m\u001b[34;43m__init__\u001b[39;49m\u001b[43m(\u001b[49m\n\u001b[32m    453\u001b[39m \u001b[43m        \u001b[49m\u001b[43m*\u001b[49m\u001b[43mtex_strings\u001b[49m\u001b[43m,\u001b[49m\n\u001b[32m    454\u001b[39m \u001b[43m        \u001b[49m\u001b[43marg_separator\u001b[49m\u001b[43m=\u001b[49m\u001b[43marg_separator\u001b[49m\u001b[43m,\u001b[49m\n\u001b[32m    455\u001b[39m \u001b[43m        \u001b[49m\u001b[43mtex_environment\u001b[49m\u001b[43m=\u001b[49m\u001b[43mtex_environment\u001b[49m\u001b[43m,\u001b[49m\n\u001b[32m    456\u001b[39m \u001b[43m        \u001b[49m\u001b[43m*\u001b[49m\u001b[43m*\u001b[49m\u001b[43mkwargs\u001b[49m\u001b[43m,\u001b[49m\n\u001b[32m    457\u001b[39m \u001b[43m    \u001b[49m\u001b[43m)\u001b[49m\n",
      "\u001b[36mFile \u001b[39m\u001b[32m~/Desktop/tensor-geometry/.venv/lib/python3.11/site-packages/manim/mobject/text/tex_mobject.py:298\u001b[39m, in \u001b[36mMathTex.__init__\u001b[39m\u001b[34m(self, arg_separator, substrings_to_isolate, tex_to_color_map, tex_environment, *tex_strings, **kwargs)\u001b[39m\n\u001b[32m    285\u001b[39m     \u001b[38;5;28;01mif\u001b[39;00m \u001b[38;5;28mself\u001b[39m.brace_notation_split_occurred:\n\u001b[32m    286\u001b[39m         logger.error(\n\u001b[32m    287\u001b[39m             dedent(\n\u001b[32m    288\u001b[39m \u001b[38;5;250m                \u001b[39m\u001b[33;03m\"\"\"\\\u001b[39;00m\n\u001b[32m   (...)\u001b[39m\u001b[32m    296\u001b[39m             ),\n\u001b[32m    297\u001b[39m         )\n\u001b[32m--> \u001b[39m\u001b[32m298\u001b[39m     \u001b[38;5;28;01mraise\u001b[39;00m compilation_error\n\u001b[32m    299\u001b[39m \u001b[38;5;28mself\u001b[39m.set_color_by_tex_to_color_map(\u001b[38;5;28mself\u001b[39m.tex_to_color_map)\n\u001b[32m    301\u001b[39m \u001b[38;5;28;01mif\u001b[39;00m \u001b[38;5;28mself\u001b[39m.organize_left_to_right:\n",
      "\u001b[36mFile \u001b[39m\u001b[32m~/Desktop/tensor-geometry/.venv/lib/python3.11/site-packages/manim/mobject/text/tex_mobject.py:277\u001b[39m, in \u001b[36mMathTex.__init__\u001b[39m\u001b[34m(self, arg_separator, substrings_to_isolate, tex_to_color_map, tex_environment, *tex_strings, **kwargs)\u001b[39m\n\u001b[32m    275\u001b[39m \u001b[38;5;28mself\u001b[39m.tex_strings = \u001b[38;5;28mself\u001b[39m._break_up_tex_strings(tex_strings)\n\u001b[32m    276\u001b[39m \u001b[38;5;28;01mtry\u001b[39;00m:\n\u001b[32m--> \u001b[39m\u001b[32m277\u001b[39m     \u001b[38;5;28;43msuper\u001b[39;49m\u001b[43m(\u001b[49m\u001b[43m)\u001b[49m\u001b[43m.\u001b[49m\u001b[34;43m__init__\u001b[39;49m\u001b[43m(\u001b[49m\n\u001b[32m    278\u001b[39m \u001b[43m        \u001b[49m\u001b[38;5;28;43mself\u001b[39;49m\u001b[43m.\u001b[49m\u001b[43marg_separator\u001b[49m\u001b[43m.\u001b[49m\u001b[43mjoin\u001b[49m\u001b[43m(\u001b[49m\u001b[38;5;28;43mself\u001b[39;49m\u001b[43m.\u001b[49m\u001b[43mtex_strings\u001b[49m\u001b[43m)\u001b[49m\u001b[43m,\u001b[49m\n\u001b[32m    279\u001b[39m \u001b[43m        \u001b[49m\u001b[43mtex_environment\u001b[49m\u001b[43m=\u001b[49m\u001b[38;5;28;43mself\u001b[39;49m\u001b[43m.\u001b[49m\u001b[43mtex_environment\u001b[49m\u001b[43m,\u001b[49m\n\u001b[32m    280\u001b[39m \u001b[43m        \u001b[49m\u001b[43mtex_template\u001b[49m\u001b[43m=\u001b[49m\u001b[38;5;28;43mself\u001b[39;49m\u001b[43m.\u001b[49m\u001b[43mtex_template\u001b[49m\u001b[43m,\u001b[49m\n\u001b[32m    281\u001b[39m \u001b[43m        \u001b[49m\u001b[43m*\u001b[49m\u001b[43m*\u001b[49m\u001b[43mkwargs\u001b[49m\u001b[43m,\u001b[49m\n\u001b[32m    282\u001b[39m \u001b[43m    \u001b[49m\u001b[43m)\u001b[49m\n\u001b[32m    283\u001b[39m     \u001b[38;5;28mself\u001b[39m._break_up_by_substrings()\n\u001b[32m    284\u001b[39m \u001b[38;5;28;01mexcept\u001b[39;00m \u001b[38;5;167;01mValueError\u001b[39;00m \u001b[38;5;28;01mas\u001b[39;00m compilation_error:\n",
      "\u001b[36mFile \u001b[39m\u001b[32m~/Desktop/tensor-geometry/.venv/lib/python3.11/site-packages/manim/mobject/text/tex_mobject.py:80\u001b[39m, in \u001b[36mSingleStringMathTex.__init__\u001b[39m\u001b[34m(self, tex_string, stroke_width, should_center, height, organize_left_to_right, tex_environment, tex_template, font_size, color, **kwargs)\u001b[39m\n\u001b[32m     78\u001b[39m \u001b[38;5;28;01massert\u001b[39;00m \u001b[38;5;28misinstance\u001b[39m(tex_string, \u001b[38;5;28mstr\u001b[39m)\n\u001b[32m     79\u001b[39m \u001b[38;5;28mself\u001b[39m.tex_string = tex_string\n\u001b[32m---> \u001b[39m\u001b[32m80\u001b[39m file_name = \u001b[43mtex_to_svg_file\u001b[49m\u001b[43m(\u001b[49m\n\u001b[32m     81\u001b[39m \u001b[43m    \u001b[49m\u001b[38;5;28;43mself\u001b[39;49m\u001b[43m.\u001b[49m\u001b[43m_get_modified_expression\u001b[49m\u001b[43m(\u001b[49m\u001b[43mtex_string\u001b[49m\u001b[43m)\u001b[49m\u001b[43m,\u001b[49m\n\u001b[32m     82\u001b[39m \u001b[43m    \u001b[49m\u001b[43menvironment\u001b[49m\u001b[43m=\u001b[49m\u001b[38;5;28;43mself\u001b[39;49m\u001b[43m.\u001b[49m\u001b[43mtex_environment\u001b[49m\u001b[43m,\u001b[49m\n\u001b[32m     83\u001b[39m \u001b[43m    \u001b[49m\u001b[43mtex_template\u001b[49m\u001b[43m=\u001b[49m\u001b[38;5;28;43mself\u001b[39;49m\u001b[43m.\u001b[49m\u001b[43mtex_template\u001b[49m\u001b[43m,\u001b[49m\n\u001b[32m     84\u001b[39m \u001b[43m\u001b[49m\u001b[43m)\u001b[49m\n\u001b[32m     85\u001b[39m \u001b[38;5;28msuper\u001b[39m().\u001b[34m__init__\u001b[39m(\n\u001b[32m     86\u001b[39m     file_name=file_name,\n\u001b[32m     87\u001b[39m     should_center=should_center,\n\u001b[32m   (...)\u001b[39m\u001b[32m     95\u001b[39m     **kwargs,\n\u001b[32m     96\u001b[39m )\n\u001b[32m     97\u001b[39m \u001b[38;5;28mself\u001b[39m.init_colors()\n",
      "\u001b[36mFile \u001b[39m\u001b[32m~/Desktop/tensor-geometry/.venv/lib/python3.11/site-packages/manim/utils/tex_file_writing.py:65\u001b[39m, in \u001b[36mtex_to_svg_file\u001b[39m\u001b[34m(expression, environment, tex_template)\u001b[39m\n\u001b[32m     62\u001b[39m \u001b[38;5;28;01mif\u001b[39;00m svg_file.exists():\n\u001b[32m     63\u001b[39m     \u001b[38;5;28;01mreturn\u001b[39;00m svg_file\n\u001b[32m---> \u001b[39m\u001b[32m65\u001b[39m dvi_file = \u001b[43mcompile_tex\u001b[49m\u001b[43m(\u001b[49m\n\u001b[32m     66\u001b[39m \u001b[43m    \u001b[49m\u001b[43mtex_file\u001b[49m\u001b[43m,\u001b[49m\n\u001b[32m     67\u001b[39m \u001b[43m    \u001b[49m\u001b[43mtex_template\u001b[49m\u001b[43m.\u001b[49m\u001b[43mtex_compiler\u001b[49m\u001b[43m,\u001b[49m\n\u001b[32m     68\u001b[39m \u001b[43m    \u001b[49m\u001b[43mtex_template\u001b[49m\u001b[43m.\u001b[49m\u001b[43moutput_format\u001b[49m\u001b[43m,\u001b[49m\n\u001b[32m     69\u001b[39m \u001b[43m\u001b[49m\u001b[43m)\u001b[49m\n\u001b[32m     70\u001b[39m svg_file = convert_to_svg(dvi_file, tex_template.output_format)\n\u001b[32m     71\u001b[39m \u001b[38;5;28;01mif\u001b[39;00m \u001b[38;5;129;01mnot\u001b[39;00m config[\u001b[33m\"\u001b[39m\u001b[33mno_latex_cleanup\u001b[39m\u001b[33m\"\u001b[39m]:\n",
      "\u001b[36mFile \u001b[39m\u001b[32m~/Desktop/tensor-geometry/.venv/lib/python3.11/site-packages/manim/utils/tex_file_writing.py:212\u001b[39m, in \u001b[36mcompile_tex\u001b[39m\u001b[34m(tex_file, tex_compiler, output_format)\u001b[39m\n\u001b[32m    210\u001b[39m         log_file = tex_file.with_suffix(\u001b[33m\"\u001b[39m\u001b[33m.log\u001b[39m\u001b[33m\"\u001b[39m)\n\u001b[32m    211\u001b[39m         print_all_tex_errors(log_file, tex_compiler, tex_file)\n\u001b[32m--> \u001b[39m\u001b[32m212\u001b[39m         \u001b[38;5;28;01mraise\u001b[39;00m \u001b[38;5;167;01mValueError\u001b[39;00m(\n\u001b[32m    213\u001b[39m             \u001b[33mf\u001b[39m\u001b[33m\"\u001b[39m\u001b[38;5;132;01m{\u001b[39;00mtex_compiler\u001b[38;5;132;01m}\u001b[39;00m\u001b[33m error converting to\u001b[39m\u001b[33m\"\u001b[39m\n\u001b[32m    214\u001b[39m             \u001b[33mf\u001b[39m\u001b[33m\"\u001b[39m\u001b[33m \u001b[39m\u001b[38;5;132;01m{\u001b[39;00moutput_format[\u001b[32m1\u001b[39m:]\u001b[38;5;132;01m}\u001b[39;00m\u001b[33m. See log output above or\u001b[39m\u001b[33m\"\u001b[39m\n\u001b[32m    215\u001b[39m             \u001b[33mf\u001b[39m\u001b[33m\"\u001b[39m\u001b[33m the log file: \u001b[39m\u001b[38;5;132;01m{\u001b[39;00mlog_file\u001b[38;5;132;01m}\u001b[39;00m\u001b[33m\"\u001b[39m,\n\u001b[32m    216\u001b[39m         )\n\u001b[32m    217\u001b[39m \u001b[38;5;28;01mreturn\u001b[39;00m result\n",
      "\u001b[31mValueError\u001b[39m: latex error converting to dvi. See log output above or the log file: media/Tex/969213dcd27e202a.log"
     ]
    }
   ],
   "source": [
    "from manim import *\n",
    "\n",
    "class TopologyIntro(Scene):\n",
    "    def construct(self):\n",
    "        # Title\n",
    "        title = Text(r\"Understanding Topology\", font_size=48, color=YELLOW)\n",
    "        self.play(Write(title))\n",
    "        self.wait(2)\n",
    "        self.play(title.animate.to_edge(UP))\n",
    "\n",
    "        # Step 1: Show a Set X\n",
    "        set_circle = Circle(radius=2, color=BLUE).shift(LEFT*2)\n",
    "        label_X = Tex(r\"X\", font_size=36).next_to(set_circle, DOWN)\n",
    "        self.play(Create(set_circle), FadeIn(label_X))\n",
    "        self.wait(2)\n",
    "\n",
    "        # Step 2: Show subsets (open sets)\n",
    "        subset1 = Circle(radius=0.8, color=GREEN, fill_opacity=0.3).shift(LEFT*2+UP*0.5)\n",
    "        subset2 = Ellipse(width=1.5, height=0.7, color=RED, fill_opacity=0.3).shift(LEFT*2+DOWN*0.3)\n",
    "        label_open = Text(r\"Open Sets\", font_size=28, color=GREEN).to_edge(RIGHT+UP)\n",
    "        self.play(Create(subset1), run_time=2)\n",
    "        self.play(Create(subset2), run_time=2)\n",
    "        self.play(Write(label_open))\n",
    "        self.wait(2)\n",
    "\n",
    "        # Step 3: Axioms neatly stacked on the right\n",
    "        axiom1 = Tex(r\"1. $\\emptyset$ and $X$ are open\", font_size=30)\n",
    "        axiom2 = Tex(r\"2. Union of opens is open\", font_size=30)\n",
    "        axiom3 = Tex(r\"3. Finite intersection of opens is open\", font_size=30)\n",
    "\n",
    "        axioms = VGroup(axiom1, axiom2, axiom3).arrange(DOWN, aligned_edge=LEFT, buff=0.5)\n",
    "        axioms.to_edge(RIGHT).shift(DOWN*0.5)\n",
    "\n",
    "        for axiom in axioms:\n",
    "            self.play(Write(axiom), run_time=2)\n",
    "            self.wait(1)\n",
    "\n",
    "        # Step 4: Demonstrate union (highlight subsets together)\n",
    "        union_glow = SurroundingRectangle(VGroup(subset1, subset2), color=YELLOW, buff=0.2)\n",
    "        union_text = Tex(r\"Union\", font_size=30).next_to(union_glow, DOWN)\n",
    "        self.play(Create(union_glow), FadeIn(union_text), run_time=2)\n",
    "        self.wait(2)\n",
    "\n",
    "        # Animate the union explicitly using geometric area\n",
    "        union_area = Polygon(subset1.get_top(), subset1.get_right(), subset2.get_right(), subset2.get_bottom(), subset1.get_left(), color=ORANGE, fill_opacity=0.5)\n",
    "        union_eq = Tex(r\"U = A \\cap B\", font_size=28).next_to(union_area, UP)\n",
    "        self.play(FadeIn(union_area), Write(union_eq), run_time=2)\n",
    "        self.wait(2)\n",
    "        self.play(FadeOut(union_glow), FadeOut(union_text))\n",
    "\n",
    "        # Step 5: Demonstrate intersection\n",
    "        inter_area = Intersection(subset1, subset2, color=PURPLE, fill_opacity=0.5)\n",
    "        inter_text = Tex(r\"Intersection\", font_size=30).next_to(inter_area, DOWN)\n",
    "        inter_eq = Tex(r\"I = A \\cap B\", font_size=28).next_to(inter_area, UP)\n",
    "        self.play(FadeIn(inter_area), FadeIn(inter_text), Write(inter_eq), run_time=2)\n",
    "        self.wait(3)\n",
    "        self.play(FadeOut(inter_area), FadeOut(inter_text), FadeOut(inter_eq))\n",
    "\n",
    "        # Step 6: Wrap up\n",
    "        summary = Text(r\"Topology = Structure of Open Sets\", font_size=36, color=YELLOW).to_edge(DOWN)\n",
    "        self.play(Write(summary), run_time=3)\n",
    "        self.wait(3)\n",
    "\n",
    "%manim -qm -v WARNING TopologyIntro"
   ]
  }
 ],
 "metadata": {
  "kernelspec": {
   "display_name": "tensor-geometry",
   "language": "python",
   "name": "python3"
  },
  "language_info": {
   "codemirror_mode": {
    "name": "ipython",
    "version": 3
   },
   "file_extension": ".py",
   "mimetype": "text/x-python",
   "name": "python",
   "nbconvert_exporter": "python",
   "pygments_lexer": "ipython3",
   "version": "3.11.13"
  }
 },
 "nbformat": 4,
 "nbformat_minor": 5
}
