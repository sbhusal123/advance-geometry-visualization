{
 "cells": [
  {
   "cell_type": "code",
   "execution_count": 1,
   "id": "ded47d02",
   "metadata": {},
   "outputs": [
    {
     "data": {
      "text/html": [
       "<pre style=\"white-space:pre;overflow-x:auto;line-height:normal;font-family:Menlo,'DejaVu Sans Mono',consolas,'Courier New',monospace\">Manim Community <span style=\"color: #008000; text-decoration-color: #008000\">v0.19.0</span>\n",
       "\n",
       "</pre>\n"
      ],
      "text/plain": [
       "Manim Community \u001b[32mv0.\u001b[0m\u001b[32m19.0\u001b[0m\n",
       "\n"
      ]
     },
     "metadata": {},
     "output_type": "display_data"
    },
    {
     "name": "stderr",
     "output_type": "stream",
     "text": [
      "                                                                                                                     \r"
     ]
    },
    {
     "data": {
      "text/html": [
       "<video src=\"media/jupyter/TopologyIntro@2025-09-03@18-08-15.mp4\" controls autoplay loop style=\"max-width: 60%;\"  >\n",
       "      Your browser does not support the <code>video</code> element.\n",
       "    </video>"
      ],
      "text/plain": [
       "<IPython.core.display.Video object>"
      ]
     },
     "metadata": {},
     "output_type": "display_data"
    }
   ],
   "source": [
    "from manim import *\n",
    "\n",
    "class TopologyIntro(Scene):\n",
    "    def construct(self):\n",
    "        # Title\n",
    "        title = Text(r\"Understanding Topology\", font_size=48, color=YELLOW)\n",
    "        self.play(Write(title))\n",
    "        self.wait(2)\n",
    "        self.play(title.animate.to_edge(UP))\n",
    "\n",
    "        # Step 1: Show a Set X\n",
    "        set_circle = Circle(radius=2, color=BLUE).shift(LEFT*2)\n",
    "        label_X = Tex(r\"X\", font_size=36).next_to(set_circle, DOWN)\n",
    "        self.play(Create(set_circle), FadeIn(label_X))\n",
    "        self.wait(1)\n",
    "\n",
    "        # Step 2: Show subsets (open sets)\n",
    "        subset1 = Circle(radius=0.8, color=GREEN, fill_opacity=0.3).shift(LEFT*2+UP*0.5)\n",
    "        subset2 = Ellipse(width=1.5, height=0.7, color=RED, fill_opacity=0.3).shift(LEFT*2+DOWN*0.3)\n",
    "        label_open = Text(r\"Open Sets\", font_size=28, color=GREEN).to_edge(RIGHT+UP)\n",
    "        self.play(Create(subset1), run_time=2)\n",
    "        self.play(Create(subset2), run_time=2)\n",
    "        self.play(Write(label_open))\n",
    "        self.wait(1)\n",
    "\n",
    "        # Step 3: Axioms neatly stacked on the right\n",
    "        axiom1 = Tex(r\"1. $\\emptyset$ and $X$ are open\", font_size=30)\n",
    "        axiom2 = Tex(r\"2. Union of opens is open\", font_size=30)\n",
    "        axiom3 = Tex(r\"3. Finite intersection of opens is open\", font_size=30)\n",
    "\n",
    "        axioms = VGroup(axiom1, axiom2, axiom3).arrange(DOWN, aligned_edge=LEFT, buff=0.5)\n",
    "        axioms.to_edge(RIGHT).shift(DOWN*0.5)\n",
    "\n",
    "        # for axiom in axioms:\n",
    "        #     self.play(Write(axiom), run_time=2)\n",
    "        #     self.wait(1)\n",
    "\n",
    "        # # Step 4: Demonstrate union (highlight subsets together)\n",
    "\n",
    "        self.play(Write(axioms[0]), run_time=2)\n",
    "        self.wait(1)\n",
    "\n",
    "        union_glow = SurroundingRectangle(VGroup(subset1, subset2), color=YELLOW, buff=0.2)\n",
    "        union_text = Tex(r\"Union\", font_size=30).next_to(union_glow, DOWN)\n",
    "        self.play(Create(union_glow), FadeIn(union_text), run_time=2)\n",
    "        self.wait(1)\n",
    "\n",
    "        # # Animate the union explicitly using geometric area\n",
    "        union_area = Polygon(subset1.get_top(), subset1.get_right(), subset2.get_right(), subset2.get_bottom(), subset1.get_left(), color=ORANGE, fill_opacity=0.5)\n",
    "        union_eq = Tex(r\"$U = A \\cap B$\", font_size=28).next_to(union_area, UP)\n",
    "        self.play(FadeIn(union_area), Write(union_eq), run_time=2)\n",
    "        self.wait(1)\n",
    "        self.play(FadeOut(union_glow), FadeOut(union_text))\n",
    "\n",
    "        # # Step 5: Demonstrate intersection\n",
    "\n",
    "        self.play(Write(axioms[1]), run_time=2)\n",
    "        self.wait(1)\n",
    "\n",
    "        inter_area = Intersection(subset1, subset2, color=PURPLE, fill_opacity=0.5)\n",
    "        inter_text = Tex(r\"Intersection\", font_size=30).next_to(inter_area, DOWN)\n",
    "        inter_eq = Tex(r\"$I = A \\cap B$\", font_size=28).next_to(inter_area, UP)\n",
    "        self.play(FadeIn(inter_area), FadeIn(inter_text), Write(inter_eq), run_time=2)\n",
    "        self.wait(3)\n",
    "        self.play(FadeOut(inter_area), FadeOut(inter_text), FadeOut(inter_eq))\n",
    "\n",
    "        # Step 6: Wrap up\n",
    "\n",
    "        self.play(Write(axioms[2]), run_time=2)\n",
    "        self.wait(1)\n",
    "\n",
    "        summary = Text(r\"Topology = Structure of Open Sets\", font_size=36, color=YELLOW).to_edge(DOWN)\n",
    "        self.play(Write(summary), run_time=3)\n",
    "        self.wait(1)\n",
    "\n",
    "%manim -qm -v WARNING TopologyIntro"
   ]
  }
 ],
 "metadata": {
  "kernelspec": {
   "display_name": "tensor-geometry",
   "language": "python",
   "name": "python3"
  },
  "language_info": {
   "codemirror_mode": {
    "name": "ipython",
    "version": 3
   },
   "file_extension": ".py",
   "mimetype": "text/x-python",
   "name": "python",
   "nbconvert_exporter": "python",
   "pygments_lexer": "ipython3",
   "version": "3.11.13"
  }
 },
 "nbformat": 4,
 "nbformat_minor": 5
}
