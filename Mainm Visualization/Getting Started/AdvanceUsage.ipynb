{
 "cells": [
  {
   "cell_type": "markdown",
   "id": "1f726aaa",
   "metadata": {},
   "source": [
    "## Example: OpeningManim \n",
    "\n",
    "[Scene Video Link](./media/jupyter/OpeningManim@2025-08-27@19-38-56.mp4)"
   ]
  },
  {
   "cell_type": "code",
   "execution_count": 5,
   "id": "78cc657f",
   "metadata": {},
   "outputs": [
    {
     "data": {
      "text/html": [
       "<pre style=\"white-space:pre;overflow-x:auto;line-height:normal;font-family:Menlo,'DejaVu Sans Mono',consolas,'Courier New',monospace\">Manim Community <span style=\"color: #008000; text-decoration-color: #008000\">v0.19.0</span>\n",
       "\n",
       "</pre>\n"
      ],
      "text/plain": [
       "Manim Community \u001b[32mv0.\u001b[0m\u001b[32m19.0\u001b[0m\n",
       "\n"
      ]
     },
     "metadata": {},
     "output_type": "display_data"
    },
    {
     "name": "stderr",
     "output_type": "stream",
     "text": [
      "                                                                                                             \r"
     ]
    },
    {
     "data": {
      "text/html": [
       "<video src=\"media/jupyter/OpeningManim@2025-08-27@19-38-56.mp4\" controls autoplay loop style=\"max-width: 60%;\"  >\n",
       "      Your browser does not support the <code>video</code> element.\n",
       "    </video>"
      ],
      "text/plain": [
       "<IPython.core.display.Video object>"
      ]
     },
     "metadata": {},
     "output_type": "display_data"
    }
   ],
   "source": [
    "from manim import *\n",
    "\n",
    "class OpeningManim(Scene):\n",
    "    def construct(self):\n",
    "        title = Tex(r\"This is some \\LaTeX\")\n",
    "        basel = MathTex(r\"\\sum_{n=1}^\\infty \\frac{1}{n^2} = \\frac{\\pi^2}{6}\")\n",
    "        VGroup(title, basel).arrange(DOWN)\n",
    "        self.play(\n",
    "            Write(title),\n",
    "            FadeIn(basel, shift=DOWN),\n",
    "        )\n",
    "        self.wait()\n",
    "\n",
    "        transform_title = Tex(\"That was a transform\")\n",
    "        transform_title.to_corner(UP + LEFT)\n",
    "        self.play(\n",
    "            Transform(title, transform_title),\n",
    "            LaggedStart(*[FadeOut(obj, shift=DOWN) for obj in basel]),\n",
    "        )\n",
    "        self.wait()\n",
    "\n",
    "        grid = NumberPlane()\n",
    "        grid_title = Tex(\"This is a grid\", font_size=72)\n",
    "        grid_title.move_to(transform_title)\n",
    "\n",
    "        self.add(grid, grid_title)  # Make sure title is on top of grid\n",
    "        self.play(\n",
    "            FadeOut(title),\n",
    "            FadeIn(grid_title, shift=UP),\n",
    "            Create(grid, run_time=3, lag_ratio=0.1),\n",
    "        )\n",
    "        self.wait()\n",
    "\n",
    "        grid_transform_title = Tex(\n",
    "            r\"That was a non-linear function \\\\ applied to the grid\"\n",
    "        )\n",
    "        grid_transform_title.move_to(grid_title, UL)\n",
    "        grid.prepare_for_nonlinear_transform()\n",
    "        self.play(\n",
    "            grid.animate.apply_function(\n",
    "                lambda p: p\n",
    "                          + np.array(\n",
    "                    [\n",
    "                        np.sin(p[1]),\n",
    "                        np.sin(p[0]),\n",
    "                        0,\n",
    "                    ]\n",
    "                )\n",
    "            ),\n",
    "            run_time=3,\n",
    "        )\n",
    "        self.wait()\n",
    "        self.play(Transform(grid_title, grid_transform_title))\n",
    "        self.wait()\n",
    "\n",
    "%manim -qm -v WARNING OpeningManim"
   ]
  },
  {
   "cell_type": "markdown",
   "id": "00d0cbea",
   "metadata": {},
   "source": [
    "## Example: SineCurveUnitCircle \n",
    "\n",
    "[Scene Video](./media/jupyter/SineCurveUnitCircle@2025-08-27@19-36-57.mp4)"
   ]
  },
  {
   "cell_type": "code",
   "execution_count": 3,
   "id": "a395a44c",
   "metadata": {},
   "outputs": [
    {
     "data": {
      "text/html": [
       "<pre style=\"white-space:pre;overflow-x:auto;line-height:normal;font-family:Menlo,'DejaVu Sans Mono',consolas,'Courier New',monospace\">Manim Community <span style=\"color: #008000; text-decoration-color: #008000\">v0.19.0</span>\n",
       "\n",
       "</pre>\n"
      ],
      "text/plain": [
       "Manim Community \u001b[32mv0.\u001b[0m\u001b[32m19.0\u001b[0m\n",
       "\n"
      ]
     },
     "metadata": {},
     "output_type": "display_data"
    },
    {
     "name": "stderr",
     "output_type": "stream",
     "text": [
      "                                                             \r"
     ]
    },
    {
     "data": {
      "text/html": [
       "<video src=\"media/jupyter/SineCurveUnitCircle@2025-08-27@19-36-57.mp4\" controls autoplay loop style=\"max-width: 60%;\"  >\n",
       "      Your browser does not support the <code>video</code> element.\n",
       "    </video>"
      ],
      "text/plain": [
       "<IPython.core.display.Video object>"
      ]
     },
     "metadata": {},
     "output_type": "display_data"
    }
   ],
   "source": [
    "from manim import *\n",
    "\n",
    "class SineCurveUnitCircle(Scene):\n",
    "    def construct(self):\n",
    "        self.show_axis()\n",
    "        self.show_circle()\n",
    "        self.move_dot_and_draw_curve()\n",
    "        self.wait()\n",
    "\n",
    "    def show_axis(self):\n",
    "        x_start = np.array([-6,0,0])\n",
    "        x_end = np.array([6,0,0])\n",
    "\n",
    "        y_start = np.array([-4,-2,0])\n",
    "        y_end = np.array([-4,2,0])\n",
    "\n",
    "        x_axis = Line(x_start, x_end)\n",
    "        y_axis = Line(y_start, y_end)\n",
    "\n",
    "        self.add(x_axis, y_axis)\n",
    "        self.add_x_labels()\n",
    "\n",
    "        self.origin_point = np.array([-4,0,0])\n",
    "        self.curve_start = np.array([-3,0,0])\n",
    "\n",
    "    def add_x_labels(self):\n",
    "        x_labels = [\n",
    "            MathTex(r\"\\pi\"), MathTex(r\"2 \\pi\"),\n",
    "            MathTex(r\"3 \\pi\"), MathTex(r\"4 \\pi\"),\n",
    "        ]\n",
    "\n",
    "        for i in range(len(x_labels)):\n",
    "            x_labels[i].next_to(np.array([-1 + 2*i, 0, 0]), DOWN)\n",
    "            self.add(x_labels[i])\n",
    "\n",
    "    def show_circle(self):\n",
    "        circle = Circle(radius=1)\n",
    "        circle.move_to(self.origin_point)\n",
    "        self.add(circle)\n",
    "        self.circle = circle\n",
    "\n",
    "    def move_dot_and_draw_curve(self):\n",
    "        orbit = self.circle\n",
    "        origin_point = self.origin_point\n",
    "\n",
    "        dot = Dot(radius=0.08, color=YELLOW)\n",
    "        dot.move_to(orbit.point_from_proportion(0))\n",
    "        self.t_offset = 0\n",
    "        rate = 0.25\n",
    "\n",
    "        def go_around_circle(mob, dt):\n",
    "            self.t_offset += (dt * rate)\n",
    "            # print(self.t_offset)\n",
    "            mob.move_to(orbit.point_from_proportion(self.t_offset % 1))\n",
    "\n",
    "        def get_line_to_circle():\n",
    "            return Line(origin_point, dot.get_center(), color=BLUE)\n",
    "\n",
    "        def get_line_to_curve():\n",
    "            x = self.curve_start[0] + self.t_offset * 4\n",
    "            y = dot.get_center()[1]\n",
    "            return Line(dot.get_center(), np.array([x,y,0]), color=YELLOW_A, stroke_width=2 )\n",
    "\n",
    "\n",
    "        self.curve = VGroup()\n",
    "        self.curve.add(Line(self.curve_start,self.curve_start))\n",
    "        def get_curve():\n",
    "            last_line = self.curve[-1]\n",
    "            x = self.curve_start[0] + self.t_offset * 4\n",
    "            y = dot.get_center()[1]\n",
    "            new_line = Line(last_line.get_end(),np.array([x,y,0]), color=YELLOW_D)\n",
    "            self.curve.add(new_line)\n",
    "\n",
    "            return self.curve\n",
    "\n",
    "        dot.add_updater(go_around_circle)\n",
    "\n",
    "        origin_to_circle_line = always_redraw(get_line_to_circle)\n",
    "        dot_to_curve_line = always_redraw(get_line_to_curve)\n",
    "        sine_curve_line = always_redraw(get_curve)\n",
    "\n",
    "        self.add(dot)\n",
    "        self.add(orbit, origin_to_circle_line, dot_to_curve_line, sine_curve_line)\n",
    "        self.wait(8.5)\n",
    "\n",
    "        dot.remove_updater(go_around_circle)\n",
    "\n",
    "%manim -qm -v WARNING SineCurveUnitCircle"
   ]
  }
 ],
 "metadata": {
  "kernelspec": {
   "display_name": "tensor-geometry",
   "language": "python",
   "name": "python3"
  },
  "language_info": {
   "codemirror_mode": {
    "name": "ipython",
    "version": 3
   },
   "file_extension": ".py",
   "mimetype": "text/x-python",
   "name": "python",
   "nbconvert_exporter": "python",
   "pygments_lexer": "ipython3",
   "version": "3.11.13"
  }
 },
 "nbformat": 4,
 "nbformat_minor": 5
}
