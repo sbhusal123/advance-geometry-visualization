{
 "cells": [
  {
   "cell_type": "markdown",
   "id": "846fcb12",
   "metadata": {},
   "source": [
    "## Example: ThreeDCameraIllusionRotation:\n",
    "\n",
    "1. ``set_camera_orientation(phi=None, theta=None, gamma=None, zoom=None, focal_distance=None, frame_center=None, **kwargs)``\n",
    "\n",
    "    **Parameters:**\n",
    "    - `phi (float | None)` – The polar angle i.e the angle between Z_AXIS and Camera through ORIGIN in radians.\n",
    "\n",
    "    - `theta (float | None)` – The azimuthal angle i.e the angle that spins the camera around the Z_AXIS.\n",
    "\n",
    "    - `focal_distance (float | None)` – The focal_distance of the Camera.\n",
    "\n",
    "    - `gamma (float | None)` – The rotation of the camera about the vector from the ORIGIN to the Camera.\n",
    "\n",
    "    - `zoom (float | None)` – The zoom factor of the scene.\n",
    "\n",
    "    - `frame_center (Mobject | Sequence[float] | None)` – The new center of the camera frame in cartesian coordinates.\n",
    "\n",
    "\n",
    "2. `begin_ambient_camera_rotation(rate=0.02, about='theta')`\n",
    "This method begins an ambient rotation of the camera about the Z_AXIS, in the anticlockwise direction\n",
    "\n",
    "    **Parameters:**\n",
    "\n",
    "    - `rate (float)` – The rate at which the camera should rotate about the Z_AXIS. Negative rate means clockwise rotation.\n",
    "\n",
    "    - `about (str)` – one of 3 options: [“theta”, “phi”, “gamma”]. defaults to theta.\n",
    "\n",
    "\n",
    "[Scene Video](./media/jupyter/ThreeDCameraIllusionRotation@2025-08-27@19-26-42.mp4)"
   ]
  },
  {
   "cell_type": "code",
   "execution_count": null,
   "id": "8aef19d5",
   "metadata": {},
   "outputs": [
    {
     "data": {
      "text/html": [
       "<pre style=\"white-space:pre;overflow-x:auto;line-height:normal;font-family:Menlo,'DejaVu Sans Mono',consolas,'Courier New',monospace\">Manim Community <span style=\"color: #008000; text-decoration-color: #008000\">v0.19.0</span>\n",
       "\n",
       "</pre>\n"
      ],
      "text/plain": [
       "Manim Community \u001b[32mv0.\u001b[0m\u001b[32m19.0\u001b[0m\n",
       "\n"
      ]
     },
     "metadata": {},
     "output_type": "display_data"
    },
    {
     "name": "stderr",
     "output_type": "stream",
     "text": [
      "                                                          \r"
     ]
    },
    {
     "data": {
      "text/html": [
       "<video src=\"media/jupyter/ThreeDCameraIllusionRotation@2025-08-27@19-26-42.mp4\" controls autoplay loop style=\"max-width: 60%;\"  >\n",
       "      Your browser does not support the <code>video</code> element.\n",
       "    </video>"
      ],
      "text/plain": [
       "<IPython.core.display.Video object>"
      ]
     },
     "metadata": {},
     "output_type": "display_data"
    }
   ],
   "source": [
    "from manim import *\n",
    "\n",
    "class ThreeDCameraIllusionRotation(ThreeDScene):\n",
    "    def construct(self):\n",
    "\n",
    "        # 3D Axes and Circle\n",
    "        axes = ThreeDAxes()\n",
    "        circle=Circle()\n",
    "\n",
    "        # Initial Camera Orientation and Adding Objects\n",
    "        self.set_camera_orientation(phi=75 * DEGREES, theta=30 * DEGREES)\n",
    "        self.add(circle,axes)\n",
    "\n",
    "        # Camera Rotation Animation\n",
    "        self.begin_3dillusion_camera_rotation(rate=2)\n",
    "        self.wait(PI/2)\n",
    "\n",
    "        # Stopping Camera Rotation\n",
    "        self.stop_3dillusion_camera_rotation()\n",
    "\n",
    "%manim -qm -v WARNING ThreeDCameraIllusionRotation"
   ]
  }
 ],
 "metadata": {
  "kernelspec": {
   "display_name": "tensor-geometry",
   "language": "python",
   "name": "python3"
  },
  "language_info": {
   "codemirror_mode": {
    "name": "ipython",
    "version": 3
   },
   "file_extension": ".py",
   "mimetype": "text/x-python",
   "name": "python",
   "nbconvert_exporter": "python",
   "pygments_lexer": "ipython3",
   "version": "3.11.13"
  }
 },
 "nbformat": 4,
 "nbformat_minor": 5
}
